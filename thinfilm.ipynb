{
 "cells": [
  {
   "cell_type": "markdown",
   "metadata": {},
   "source": [
    "An example that simulates the refletance of a silicon nitride thinfilm stacked on a silicon substrate over a range of wavelengths."
   ]
  },
  {
   "cell_type": "code",
   "execution_count": 7,
   "metadata": {},
   "outputs": [],
   "source": [
    "import numpy as np\n",
    "from materials import Material\n",
    "from thinfilm import OpticalAssembly"
   ]
  },
  {
   "cell_type": "code",
   "execution_count": 8,
   "metadata": {},
   "outputs": [],
   "source": [
    "# Setup range of wavelengths\n",
    "wavelengths = np.arange(400, 800, 1)"
   ]
  },
  {
   "cell_type": "markdown",
   "metadata": {},
   "source": [
    "To crate the material obejcts we specify the index of refraction and extenction coefficent in the object construtor.\n",
    "```\n",
    "material = Material(index of refraction, extinction coefficent)\n",
    "```\n",
    "If a wavelength vs. index of refreaction curve is available then provide the file name in place of the value. "
   ]
  },
  {
   "cell_type": "code",
   "execution_count": 9,
   "metadata": {},
   "outputs": [],
   "source": [
    "# Create materials\n",
    "substrate_material = Material(\"materials/Si.txt\", \"materials/Si.txt\")\n",
    "thin_film_material = Material(\"materials/Si3N4.txt\", \"materials/Si3N4.txt\")\n",
    "air_material = Material(1.0, 0.0)"
   ]
  },
  {
   "cell_type": "markdown",
   "metadata": {},
   "source": [
    "Now we can create the optical assembly. We need to specify the range of wavelengths of light shining at the stack, the material of the substrate, the incident angle of the rays of light to the stack (measured from the vertical), and wether or not to use p or s polarized waves when modeling the rays of light.\n",
    "```\n",
    "assembly = OpticalAssembly(wavelengths, substrate material, angle of incidence, should model with p-waves)\n",
    "```\n",
    "\n",
    "When we can then stack a thin film ontop of the substrate, specifcying the material and thickness of the film.\n",
    "```\n",
    "assembly.stack_thin_film(material of film, thickness of film in nm)\n",
    "```"
   ]
  },
  {
   "cell_type": "code",
   "execution_count": 10,
   "metadata": {},
   "outputs": [
    {
     "data": {
      "text/plain": [
       "array([[[-0.91904483-0.00000000e+00j, -0.91610169-0.00000000e+00j,\n",
       "         -0.91312336-0.00000000e+00j, ...,  0.23720426-0.00000000e+00j,\n",
       "          0.23886316-0.00000000e+00j,  0.24051721-0.00000000e+00j],\n",
       "        [ 0.        +7.15996119e+01j,  0.        +7.28490432e+01j,\n",
       "          0.        +7.40888994e+01j, ...,  0.        +1.82045651e+02j,\n",
       "          0.        +1.81974896e+02j,  0.        +1.81903798e+02j]],\n",
       "\n",
       "       [[ 0.        +2.16979662e-03j,  0.        +2.20672346e-03j,\n",
       "          0.        +2.24332846e-03j, ...,  0.        +5.18405209e-03j,\n",
       "          0.        +5.18172789e-03j,  0.        +5.17939419e-03j],\n",
       "        [-0.91904483-0.00000000e+00j, -0.91610169-0.00000000e+00j,\n",
       "         -0.91312336-0.00000000e+00j, ...,  0.23720426-0.00000000e+00j,\n",
       "          0.23886316-0.00000000e+00j,  0.24051721-0.00000000e+00j]]])"
      ]
     },
     "execution_count": 10,
     "metadata": {},
     "output_type": "execute_result"
    }
   ],
   "source": [
    "# Create optical assembly\n",
    "assembly = OpticalAssembly(wavelengths, substrate_material, 0, False)\n",
    "\n",
    "# Stack thin film\n",
    "assembly.stack_thin_film(thin_film_material, 84)"
   ]
  },
  {
   "cell_type": "markdown",
   "metadata": {},
   "source": [
    "We can then calculaute the reflectance of our optical stack at all of the wavelengths we passed in. We just need to specify the material above the optical stack which is usually air.\n",
    "```\n",
    "reflectances = assembly.calculate_assembly_reflectance(material above stack)\n",
    "```"
   ]
  },
  {
   "cell_type": "code",
   "execution_count": 11,
   "metadata": {},
   "outputs": [],
   "source": [
    "# Calculate reflectance\n",
    "R = assembly.calculate_assembly_reflectance(air_material)"
   ]
  },
  {
   "cell_type": "markdown",
   "metadata": {},
   "source": [
    "Finally, we can plot reflectance vs. wavelength."
   ]
  },
  {
   "cell_type": "code",
   "execution_count": 12,
   "metadata": {},
   "outputs": [
    {
     "name": "stderr",
     "output_type": "stream",
     "text": [
      "c:\\Users\\cttew\\Desktop\\code\\nano\\venv\\lib\\site-packages\\matplotlib\\cbook\\__init__.py:1369: ComplexWarning: Casting complex values to real discards the imaginary part\n",
      "  return np.asarray(x, float)\n"
     ]
    },
    {
     "data": {
      "image/png": "[encoded data removed]",
      "text/plain": [
       "<Figure size 640x480 with 1 Axes>"
      ]
     },
     "metadata": {},
     "output_type": "display_data"
    }
   ],
   "source": [
    "# Plot reflectance\n",
    "import matplotlib.pyplot as plt\n",
    "\n",
    "plt.plot(wavelengths, R)\n",
    "plt.show()"
   ]
  }
 ],
 "metadata": {
  "kernelspec": {
   "display_name": "Python 3.9.13 ('venv': venv)",
   "language": "python",
   "name": "python3"
  },
  "language_info": {
   "codemirror_mode": {
    "name": "ipython",
    "version": 3
   },
   "file_extension": ".py",
   "mimetype": "text/x-python",
   "name": "python",
   "nbconvert_exporter": "python",
   "pygments_lexer": "ipython3",
   "version": "3.9.13"
  },
  "orig_nbformat": 4,
  "vscode": {
   "interpreter": {
    "hash": "96c838025161667b9646562ae14fa138ae6d3700d3f2fabc12a7af20e993274c"
   }
  }
 },
 "nbformat": 4,
 "nbformat_minor": 2
}
